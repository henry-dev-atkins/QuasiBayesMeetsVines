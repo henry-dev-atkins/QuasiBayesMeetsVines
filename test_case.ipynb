{
 "cells": [
  {
   "cell_type": "code",
   "execution_count": 1,
   "metadata": {},
   "outputs": [],
   "source": [
    "from model.QBVM import QuasiBayesianVineRegression"
   ]
  },
  {
   "cell_type": "code",
   "execution_count": 2,
   "metadata": {},
   "outputs": [
    {
     "name": "stderr",
     "output_type": "stream",
     "text": [
      "c:\\Users\\henry\\Desktop\\Projects\\QuasiBayesMeetsVines\\model\\QBVM.py:64: RuntimeWarning: overflow encountered in multiply\n",
      "  _iter_data['x_density'] = last_density * ((1 - alpha) + (alpha * self.bivariate_copula(last_dist, last_n_dists)))\n"
     ]
    },
    {
     "name": "stdout",
     "output_type": "stream",
     "text": [
      "[0.56052632 0.3201581  0.70053476 0.41237113 0.33695652 0.62758621\n",
      " 0.61181435 0.32075472 0.75709779 0.37542662 0.44715447 0.6959707\n",
      " 0.64693295]\n"
     ]
    },
    {
     "ename": "ValueError",
     "evalue": "operands could not be broadcast together with shapes (14,) (13,) ",
     "output_type": "error",
     "traceback": [
      "\u001b[1;31m---------------------------------------------------------------------------\u001b[0m",
      "\u001b[1;31mValueError\u001b[0m                                Traceback (most recent call last)",
      "Cell \u001b[1;32mIn[2], line 14\u001b[0m\n\u001b[0;32m     10\u001b[0m model\u001b[38;5;241m.\u001b[39mfit(feat, target[:\u001b[38;5;28mlen\u001b[39m(feat)])\n\u001b[0;32m     12\u001b[0m \u001b[38;5;66;03m#predictions = model.predict(feat)\u001b[39;00m\n\u001b[1;32m---> 14\u001b[0m \u001b[43mmodel\u001b[49m\u001b[38;5;241;43m.\u001b[39;49m\u001b[43mpredict\u001b[49m\u001b[43m(\u001b[49m\u001b[43mfeat\u001b[49m\u001b[43m[\u001b[49m\u001b[38;5;241;43m2\u001b[39;49m\u001b[43m]\u001b[49m\u001b[43m)\u001b[49m\n",
      "File \u001b[1;32mc:\\Users\\henry\\Desktop\\Projects\\QuasiBayesMeetsVines\\model\\QBVM.py:231\u001b[0m, in \u001b[0;36mQuasiBayesianVineRegression.predict\u001b[1;34m(self, X)\u001b[0m\n\u001b[0;32m    229\u001b[0m \u001b[38;5;28mself\u001b[39m\u001b[38;5;241m.\u001b[39mpredictions \u001b[38;5;241m=\u001b[39m np\u001b[38;5;241m.\u001b[39mzeros(X\u001b[38;5;241m.\u001b[39mshape[\u001b[38;5;241m0\u001b[39m])\n\u001b[0;32m    230\u001b[0m \u001b[38;5;28;01mif\u001b[39;00m \u001b[38;5;28mlen\u001b[39m(X\u001b[38;5;241m.\u001b[39mshape) \u001b[38;5;241m==\u001b[39m \u001b[38;5;241m1\u001b[39m:\n\u001b[1;32m--> 231\u001b[0m     \u001b[38;5;28mself\u001b[39m\u001b[38;5;241m.\u001b[39mpredictions \u001b[38;5;241m=\u001b[39m \u001b[38;5;28;43mself\u001b[39;49m\u001b[38;5;241;43m.\u001b[39;49m\u001b[43mpredict_sample\u001b[49m\u001b[43m(\u001b[49m\u001b[43mX\u001b[49m\u001b[43m)\u001b[49m\n\u001b[0;32m    232\u001b[0m     \u001b[38;5;28;01mreturn\u001b[39;00m \u001b[38;5;28mself\u001b[39m\u001b[38;5;241m.\u001b[39mpredictions\n\u001b[0;32m    233\u001b[0m \u001b[38;5;28;01mfor\u001b[39;00m i, sample \u001b[38;5;129;01min\u001b[39;00m \u001b[38;5;28menumerate\u001b[39m(X):\n",
      "File \u001b[1;32mc:\\Users\\henry\\Desktop\\Projects\\QuasiBayesMeetsVines\\model\\QBVM.py:222\u001b[0m, in \u001b[0;36mQuasiBayesianVineRegression.predict_sample\u001b[1;34m(self, _X, _iters)\u001b[0m\n\u001b[0;32m    220\u001b[0m     c_y_X \u001b[38;5;241m=\u001b[39m \u001b[38;5;28mself\u001b[39m\u001b[38;5;241m.\u001b[39mmodel[\u001b[38;5;124m'\u001b[39m\u001b[38;5;124mjoint_copula\u001b[39m\u001b[38;5;124m'\u001b[39m]\u001b[38;5;241m.\u001b[39mpdf(joint_vars)\n\u001b[0;32m    221\u001b[0m     p_y \u001b[38;5;241m=\u001b[39m \u001b[38;5;28mself\u001b[39m\u001b[38;5;241m.\u001b[39mmodel[\u001b[38;5;124m'\u001b[39m\u001b[38;5;124my_marginal\u001b[39m\u001b[38;5;124m'\u001b[39m]\u001b[38;5;241m.\u001b[39mpdf(y)\n\u001b[1;32m--> 222\u001b[0m     conditional_density \u001b[38;5;241m=\u001b[39m \u001b[43m(\u001b[49m\u001b[43mc_y_X\u001b[49m\u001b[43m \u001b[49m\u001b[38;5;241;43m*\u001b[39;49m\u001b[43m \u001b[49m\u001b[43mp_y\u001b[49m\u001b[43m)\u001b[49m\u001b[43m \u001b[49m\u001b[38;5;241;43m/\u001b[39;49m\u001b[43m \u001b[49m\u001b[43mc_X\u001b[49m\n\u001b[0;32m    223\u001b[0m     y_predictions[\u001b[38;5;28mint\u001b[39m(y)] \u001b[38;5;241m=\u001b[39m conditional_density\u001b[38;5;241m.\u001b[39mmean()\n\u001b[0;32m    225\u001b[0m \u001b[38;5;28;01mreturn\u001b[39;00m y_predictions\u001b[38;5;241m.\u001b[39mmean()\n",
      "\u001b[1;31mValueError\u001b[0m: operands could not be broadcast together with shapes (14,) (13,) "
     ]
    }
   ],
   "source": [
    "from sklearn.datasets import load_wine\n",
    "from sklearn.preprocessing import MinMaxScaler\n",
    "\n",
    "feat, target = load_wine(return_X_y=True)\n",
    "\n",
    "feat = MinMaxScaler().fit_transform(feat)\n",
    "target = MinMaxScaler().fit_transform(target.reshape(-1, 1))\n",
    "\n",
    "model = QuasiBayesianVineRegression()\n",
    "model.fit(feat, target[:len(feat)])\n",
    "\n",
    "#predictions = model.predict(feat)\n",
    "\n",
    "model.predict(feat[2])"
   ]
  },
  {
   "cell_type": "code",
   "execution_count": 5,
   "metadata": {},
   "outputs": [
    {
     "data": {
      "text/plain": [
       "array([0.56052632, 0.3201581 , 0.70053476, 0.41237113, 0.33695652,\n",
       "       0.62758621, 0.61181435, 0.32075472, 0.75709779, 0.37542662,\n",
       "       0.44715447, 0.6959707 , 0.64693295])"
      ]
     },
     "execution_count": 5,
     "metadata": {},
     "output_type": "execute_result"
    }
   ],
   "source": [
    "feat[2]"
   ]
  },
  {
   "cell_type": "code",
   "execution_count": 1,
   "metadata": {},
   "outputs": [
    {
     "ename": "NameError",
     "evalue": "name 'model' is not defined",
     "output_type": "error",
     "traceback": [
      "\u001b[1;31m---------------------------------------------------------------------------\u001b[0m",
      "\u001b[1;31mNameError\u001b[0m                                 Traceback (most recent call last)",
      "Cell \u001b[1;32mIn[1], line 1\u001b[0m\n\u001b[1;32m----> 1\u001b[0m \u001b[43mmodel\u001b[49m\u001b[38;5;241m.\u001b[39mpredict(feat[\u001b[38;5;241m2\u001b[39m])\n",
      "\u001b[1;31mNameError\u001b[0m: name 'model' is not defined"
     ]
    }
   ],
   "source": [
    "model.predict(feat[2])"
   ]
  },
  {
   "cell_type": "code",
   "execution_count": null,
   "metadata": {},
   "outputs": [],
   "source": []
  }
 ],
 "metadata": {
  "kernelspec": {
   "display_name": "env_project",
   "language": "python",
   "name": "python3"
  },
  "language_info": {
   "codemirror_mode": {
    "name": "ipython",
    "version": 3
   },
   "file_extension": ".py",
   "mimetype": "text/x-python",
   "name": "python",
   "nbconvert_exporter": "python",
   "pygments_lexer": "ipython3",
   "version": "3.12.1"
  }
 },
 "nbformat": 4,
 "nbformat_minor": 2
}
