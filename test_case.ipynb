{
 "cells": [
  {
   "cell_type": "code",
   "execution_count": 1,
   "metadata": {},
   "outputs": [],
   "source": [
    "from model.QBVM import QuasiBayesianVineRegression"
   ]
  },
  {
   "cell_type": "code",
   "execution_count": 2,
   "metadata": {},
   "outputs": [
    {
     "data": {
      "text/plain": [
       "(array([[0.84210526, 0.1916996 , 0.57219251, 0.25773196, 0.61956522,\n",
       "         0.62758621, 0.57383966, 0.28301887, 0.59305994, 0.37201365,\n",
       "         0.45528455, 0.97069597, 0.56134094],\n",
       "        [0.57105263, 0.2055336 , 0.4171123 , 0.03092784, 0.32608696,\n",
       "         0.57586207, 0.51054852, 0.24528302, 0.27444795, 0.26450512,\n",
       "         0.46341463, 0.78021978, 0.55064194]]),\n",
       " array([[0.],\n",
       "        [0.]]))"
      ]
     },
     "execution_count": 2,
     "metadata": {},
     "output_type": "execute_result"
    }
   ],
   "source": [
    "from sklearn.datasets import load_wine\n",
    "from sklearn.preprocessing import MinMaxScaler\n",
    "\n",
    "feat, target = load_wine(return_X_y=True)\n",
    "\n",
    "feat = MinMaxScaler().fit_transform(feat)[:2]\n",
    "target = MinMaxScaler().fit_transform(target.reshape(-1, 1))[:2]\n",
    "feat, target"
   ]
  },
  {
   "cell_type": "code",
   "execution_count": 3,
   "metadata": {},
   "outputs": [
    {
     "name": "stdout",
     "output_type": "stream",
     "text": [
      "x_density (2,)\n",
      "x_distribution (2,)\n",
      "x_distribution_n (2,)\n",
      "y_distribution (2,)\n",
      "Samples: (2,) (1,)\n"
     ]
    },
    {
     "ename": "ValueError",
     "evalue": "all the input array dimensions except for the concatenation axis must match exactly, but along dimension 1, the array at index 0 has size 2 and the array at index 1 has size 1",
     "output_type": "error",
     "traceback": [
      "\u001b[1;31m---------------------------------------------------------------------------\u001b[0m",
      "\u001b[1;31mValueError\u001b[0m                                Traceback (most recent call last)",
      "Cell \u001b[1;32mIn[3], line 2\u001b[0m\n\u001b[0;32m      1\u001b[0m model \u001b[38;5;241m=\u001b[39m QuasiBayesianVineRegression()\n\u001b[1;32m----> 2\u001b[0m \u001b[43mmodel\u001b[49m\u001b[38;5;241;43m.\u001b[39;49m\u001b[43mfit\u001b[49m\u001b[43m(\u001b[49m\u001b[43mfeat\u001b[49m\u001b[43m,\u001b[49m\u001b[43m \u001b[49m\u001b[43mtarget\u001b[49m\u001b[43m[\u001b[49m\u001b[43m:\u001b[49m\u001b[38;5;28;43mlen\u001b[39;49m\u001b[43m(\u001b[49m\u001b[43mfeat\u001b[49m\u001b[43m)\u001b[49m\u001b[43m]\u001b[49m\u001b[43m)\u001b[49m\n\u001b[0;32m      4\u001b[0m \u001b[38;5;66;03m#predictions = model.predict(feat)\u001b[39;00m\n\u001b[0;32m      6\u001b[0m model\u001b[38;5;241m.\u001b[39mpredict(feat[\u001b[38;5;241m2\u001b[39m])\n",
      "File \u001b[1;32mc:\\Users\\henry\\Desktop\\Projects\\QuasiBayesMeetsVines\\model\\QBVM.py:223\u001b[0m, in \u001b[0;36mQuasiBayesianVineRegression.fit\u001b[1;34m(self, X, y)\u001b[0m\n\u001b[0;32m    221\u001b[0m \u001b[38;5;66;03m# Recursive Marginals\u001b[39;00m\n\u001b[0;32m    222\u001b[0m _recursive_data \u001b[38;5;241m=\u001b[39m np\u001b[38;5;241m.\u001b[39mhstack((X, y))\n\u001b[1;32m--> 223\u001b[0m marginals \u001b[38;5;241m=\u001b[39m \u001b[38;5;28;43mself\u001b[39;49m\u001b[38;5;241;43m.\u001b[39;49m\u001b[43mget_marginals\u001b[49m\u001b[43m(\u001b[49m\u001b[43m_recursive_data\u001b[49m\u001b[43m)\u001b[49m\n\u001b[0;32m    224\u001b[0m final_marginals \u001b[38;5;241m=\u001b[39m marginals[X\u001b[38;5;241m.\u001b[39mshape[\u001b[38;5;241m1\u001b[39m]]\n\u001b[0;32m    226\u001b[0m \u001b[38;5;66;03m# Estimate Copula for Combining the Marginals.\u001b[39;00m\n",
      "File \u001b[1;32mc:\\Users\\henry\\Desktop\\Projects\\QuasiBayesMeetsVines\\model\\QBVM.py:157\u001b[0m, in \u001b[0;36mQuasiBayesianVineRegression.get_marginals\u001b[1;34m(self, data)\u001b[0m\n\u001b[0;32m    155\u001b[0m \u001b[38;5;28;01mfor\u001b[39;00m n \u001b[38;5;129;01min\u001b[39;00m \u001b[38;5;28mrange\u001b[39m(\u001b[38;5;241m0\u001b[39m, dimensions):\n\u001b[0;32m    156\u001b[0m     alpha_n \u001b[38;5;241m=\u001b[39m (\u001b[38;5;241m2\u001b[39m \u001b[38;5;241m-\u001b[39m (n\u001b[38;5;241m^\u001b[39m\u001b[38;5;241m-\u001b[39m\u001b[38;5;241m1\u001b[39m)) \u001b[38;5;241m*\u001b[39m (\u001b[38;5;241m1\u001b[39m \u001b[38;5;241m/\u001b[39m (\u001b[38;5;241m1\u001b[39m\u001b[38;5;241m+\u001b[39mn))\n\u001b[1;32m--> 157\u001b[0m     marginals[n] \u001b[38;5;241m=\u001b[39m \u001b[38;5;28;43mself\u001b[39;49m\u001b[38;5;241;43m.\u001b[39;49m\u001b[43mrecurse_samples\u001b[49m\u001b[43m(\u001b[49m\u001b[43malpha_n\u001b[49m\u001b[43m,\u001b[49m\u001b[43m \u001b[49m\u001b[43msamples\u001b[49m\u001b[38;5;241;43m=\u001b[39;49m\u001b[43mdata\u001b[49m\u001b[43m[\u001b[49m\u001b[43m:\u001b[49m\u001b[43m,\u001b[49m\u001b[43m \u001b[49m\u001b[43mn\u001b[49m\u001b[43m]\u001b[49m\u001b[43m)\u001b[49m\n\u001b[0;32m    158\u001b[0m \u001b[38;5;28;01mreturn\u001b[39;00m marginals\n",
      "File \u001b[1;32mc:\\Users\\henry\\Desktop\\Projects\\QuasiBayesMeetsVines\\model\\QBVM.py:129\u001b[0m, in \u001b[0;36mQuasiBayesianVineRegression.recurse_samples\u001b[1;34m(self, alpha, samples)\u001b[0m\n\u001b[0;32m    127\u001b[0m sample \u001b[38;5;241m=\u001b[39m np\u001b[38;5;241m.\u001b[39marray([sample]) \n\u001b[0;32m    128\u001b[0m \u001b[38;5;28mprint\u001b[39m(\u001b[38;5;124m\"\u001b[39m\u001b[38;5;124mSamples:\u001b[39m\u001b[38;5;124m\"\u001b[39m, _iter_data[\u001b[38;5;124m'\u001b[39m\u001b[38;5;124mx_distribution\u001b[39m\u001b[38;5;124m'\u001b[39m]\u001b[38;5;241m.\u001b[39mshape, sample\u001b[38;5;241m.\u001b[39mshape)\n\u001b[1;32m--> 129\u001b[0m _iter_data[\u001b[38;5;124m'\u001b[39m\u001b[38;5;124mx_density\u001b[39m\u001b[38;5;124m'\u001b[39m] \u001b[38;5;241m*\u001b[39m\u001b[38;5;241m=\u001b[39m (\u001b[38;5;241m1\u001b[39m \u001b[38;5;241m-\u001b[39m alpha) \u001b[38;5;241m+\u001b[39m (alpha \u001b[38;5;241m*\u001b[39m \u001b[38;5;28;43mself\u001b[39;49m\u001b[38;5;241;43m.\u001b[39;49m\u001b[43mbivariate_copula\u001b[49m\u001b[43m(\u001b[49m\u001b[43m_iter_data\u001b[49m\u001b[43m[\u001b[49m\u001b[38;5;124;43m'\u001b[39;49m\u001b[38;5;124;43mx_distribution\u001b[39;49m\u001b[38;5;124;43m'\u001b[39;49m\u001b[43m]\u001b[49m\u001b[43m,\u001b[49m\u001b[43m \u001b[49m\u001b[43msample\u001b[49m\u001b[43m)\u001b[49m)\n\u001b[0;32m    131\u001b[0m \u001b[38;5;66;03m# Cumulative Distribution P(x) (Equation 4)\u001b[39;00m\n\u001b[0;32m    132\u001b[0m _iter_data[\u001b[38;5;124m'\u001b[39m\u001b[38;5;124mx_distribution_last_sample\u001b[39m\u001b[38;5;124m'\u001b[39m] \u001b[38;5;241m=\u001b[39m _iter_data[\u001b[38;5;124m'\u001b[39m\u001b[38;5;124mx_distribution\u001b[39m\u001b[38;5;124m'\u001b[39m] \u001b[38;5;66;03m#Store for next sample.\u001b[39;00m\n",
      "File \u001b[1;32mc:\\Users\\henry\\Desktop\\Projects\\QuasiBayesMeetsVines\\model\\QBVM.py:33\u001b[0m, in \u001b[0;36mQuasiBayesianVineRegression.bivariate_copula\u001b[1;34m(self, cdf_x, cdf_y)\u001b[0m\n\u001b[0;32m     12\u001b[0m \u001b[38;5;28;01mdef\u001b[39;00m \u001b[38;5;21mbivariate_copula\u001b[39m(\u001b[38;5;28mself\u001b[39m, cdf_x: np\u001b[38;5;241m.\u001b[39mndarray, cdf_y: np\u001b[38;5;241m.\u001b[39mndarray) \u001b[38;5;241m-\u001b[39m\u001b[38;5;241m>\u001b[39m \u001b[38;5;28mfloat\u001b[39m:\n\u001b[0;32m     13\u001b[0m \u001b[38;5;250m    \u001b[39m\u001b[38;5;124;03m\"\"\"\u001b[39;00m\n\u001b[0;32m     14\u001b[0m \u001b[38;5;124;03m    Automatically selects the best-fitting bivariate copula family and computes the copula density.\u001b[39;00m\n\u001b[0;32m     15\u001b[0m \u001b[38;5;124;03m    \u001b[39;00m\n\u001b[1;32m   (...)\u001b[0m\n\u001b[0;32m     31\u001b[0m \u001b[38;5;124;03m        structure or KDE components.\u001b[39;00m\n\u001b[0;32m     32\u001b[0m \u001b[38;5;124;03m    \"\"\"\u001b[39;00m\n\u001b[1;32m---> 33\u001b[0m     data \u001b[38;5;241m=\u001b[39m \u001b[43mnp\u001b[49m\u001b[38;5;241;43m.\u001b[39;49m\u001b[43mvstack\u001b[49m\u001b[43m(\u001b[49m\u001b[43m(\u001b[49m\u001b[43mcdf_x\u001b[49m\u001b[43m,\u001b[49m\u001b[43m \u001b[49m\u001b[43mcdf_y\u001b[49m\u001b[43m)\u001b[49m\u001b[43m)\u001b[49m\u001b[38;5;241m.\u001b[39mT\n\u001b[0;32m     34\u001b[0m     bicop_model \u001b[38;5;241m=\u001b[39m pv\u001b[38;5;241m.\u001b[39mBicop()\n\u001b[0;32m     35\u001b[0m     bicop_model\u001b[38;5;241m.\u001b[39mselect(data\u001b[38;5;241m=\u001b[39mdata)\n",
      "File \u001b[1;32mc:\\Users\\henry\\Desktop\\Projects\\QuasiBayesMeetsVines\\env\\env_project\\Lib\\site-packages\\numpy\\core\\shape_base.py:289\u001b[0m, in \u001b[0;36mvstack\u001b[1;34m(tup, dtype, casting)\u001b[0m\n\u001b[0;32m    287\u001b[0m \u001b[38;5;28;01mif\u001b[39;00m \u001b[38;5;129;01mnot\u001b[39;00m \u001b[38;5;28misinstance\u001b[39m(arrs, \u001b[38;5;28mlist\u001b[39m):\n\u001b[0;32m    288\u001b[0m     arrs \u001b[38;5;241m=\u001b[39m [arrs]\n\u001b[1;32m--> 289\u001b[0m \u001b[38;5;28;01mreturn\u001b[39;00m \u001b[43m_nx\u001b[49m\u001b[38;5;241;43m.\u001b[39;49m\u001b[43mconcatenate\u001b[49m\u001b[43m(\u001b[49m\u001b[43marrs\u001b[49m\u001b[43m,\u001b[49m\u001b[43m \u001b[49m\u001b[38;5;241;43m0\u001b[39;49m\u001b[43m,\u001b[49m\u001b[43m \u001b[49m\u001b[43mdtype\u001b[49m\u001b[38;5;241;43m=\u001b[39;49m\u001b[43mdtype\u001b[49m\u001b[43m,\u001b[49m\u001b[43m \u001b[49m\u001b[43mcasting\u001b[49m\u001b[38;5;241;43m=\u001b[39;49m\u001b[43mcasting\u001b[49m\u001b[43m)\u001b[49m\n",
      "\u001b[1;31mValueError\u001b[0m: all the input array dimensions except for the concatenation axis must match exactly, but along dimension 1, the array at index 0 has size 2 and the array at index 1 has size 1"
     ]
    }
   ],
   "source": [
    "model = QuasiBayesianVineRegression()\n",
    "model.fit(feat, target[:len(feat)])\n",
    "\n",
    "#predictions = model.predict(feat)\n",
    "\n",
    "model.predict(feat[2])"
   ]
  },
  {
   "cell_type": "code",
   "execution_count": 5,
   "metadata": {},
   "outputs": [
    {
     "data": {
      "text/plain": [
       "array([0.56052632, 0.3201581 , 0.70053476, 0.41237113, 0.33695652,\n",
       "       0.62758621, 0.61181435, 0.32075472, 0.75709779, 0.37542662,\n",
       "       0.44715447, 0.6959707 , 0.64693295])"
      ]
     },
     "execution_count": 5,
     "metadata": {},
     "output_type": "execute_result"
    }
   ],
   "source": [
    "feat[2]"
   ]
  },
  {
   "cell_type": "code",
   "execution_count": 1,
   "metadata": {},
   "outputs": [
    {
     "ename": "NameError",
     "evalue": "name 'model' is not defined",
     "output_type": "error",
     "traceback": [
      "\u001b[1;31m---------------------------------------------------------------------------\u001b[0m",
      "\u001b[1;31mNameError\u001b[0m                                 Traceback (most recent call last)",
      "Cell \u001b[1;32mIn[1], line 1\u001b[0m\n\u001b[1;32m----> 1\u001b[0m \u001b[43mmodel\u001b[49m\u001b[38;5;241m.\u001b[39mpredict(feat[\u001b[38;5;241m2\u001b[39m])\n",
      "\u001b[1;31mNameError\u001b[0m: name 'model' is not defined"
     ]
    }
   ],
   "source": [
    "model.predict(feat[2])"
   ]
  },
  {
   "cell_type": "code",
   "execution_count": null,
   "metadata": {},
   "outputs": [],
   "source": []
  }
 ],
 "metadata": {
  "kernelspec": {
   "display_name": "env_project",
   "language": "python",
   "name": "python3"
  },
  "language_info": {
   "codemirror_mode": {
    "name": "ipython",
    "version": 3
   },
   "file_extension": ".py",
   "mimetype": "text/x-python",
   "name": "python",
   "nbconvert_exporter": "python",
   "pygments_lexer": "ipython3",
   "version": "3.12.1"
  }
 },
 "nbformat": 4,
 "nbformat_minor": 2
}
