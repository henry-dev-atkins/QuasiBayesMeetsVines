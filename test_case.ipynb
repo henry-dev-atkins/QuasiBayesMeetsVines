{
 "cells": [
  {
   "cell_type": "code",
   "execution_count": 1,
   "metadata": {},
   "outputs": [],
   "source": [
    "from model.QBVM import QuasiBayesianVineRegression"
   ]
  },
  {
   "cell_type": "code",
   "execution_count": 4,
   "metadata": {},
   "outputs": [
    {
     "name": "stderr",
     "output_type": "stream",
     "text": [
      "c:\\Users\\henry\\Desktop\\Projects\\QuasiBayesMeetsVines\\model\\QBVM.py:32: RuntimeWarning: invalid value encountered in subtract\n",
      "  numerator = quantile_x**2 + quantile_y**2 - 2 * rho * quantile_x * quantile_y\n"
     ]
    },
    {
     "name": "stdout",
     "output_type": "stream",
     "text": [
      "[0.00295585 0.00295585 0.00295585 0.00295585 0.00295585 0.00295585\n",
      " 0.00295585 0.00295585 0.00295585 0.00295585 0.00295585 0.00295585\n",
      " 0.00295585 0.00295585 0.00295585 0.00295585 0.00295585 0.00295585\n",
      " 0.00295585 0.00295585 0.00295585 0.00295585 0.00295585 0.00295585\n",
      " 0.00295585 0.00295585 0.00295585 0.00295585 0.00295585 0.00295585\n",
      " 0.00295585 0.00295585 0.00295585 0.00295585 0.00295585 0.00295585\n",
      " 0.00295585 0.00295585 0.00295585 0.00295585 0.00295585 0.00295585\n",
      " 0.00295585 0.00295585 0.00295585 0.00295585 0.00295585 0.00295585\n",
      " 0.00295585 0.00295585 0.00295585 0.00295585 0.00295585 0.00295585\n",
      " 0.00295585 0.00295585 0.00295585 0.00295585 0.00295585 0.00295585\n",
      " 0.00295585 0.00295585 0.00295585 0.00295585 0.00295585 0.00295585\n",
      " 0.00295585 0.00295585 0.00295585 0.00295585 0.00295585 0.00295585\n",
      " 0.00295585 0.00295585 0.00295585 0.00295585 0.00295585 0.00295585]\n"
     ]
    }
   ],
   "source": [
    "from sklearn.datasets import load_wine\n",
    "from sklearn.preprocessing import MinMaxScaler\n",
    "\n",
    "data = load_wine(return_X_y=True)\n",
    "feat = MinMaxScaler().fit_transform(data[0])\n",
    "target = MinMaxScaler().fit_transform(data[1].reshape(-1, 1))\n",
    "\n",
    "X_train = feat[:100]\n",
    "y_train = target[:100]\n",
    "\n",
    "X_test = feat[100:]\n",
    "y_test = target[100:]\n",
    "\n",
    "model = QuasiBayesianVineRegression(rho=0.5, bandwidth=0.1)\n",
    "model.fit(X_train, y_train)\n",
    "\n",
    "predictions = model.predict(X_test)\n",
    "print(predictions)"
   ]
  }
 ],
 "metadata": {
  "kernelspec": {
   "display_name": "env_project",
   "language": "python",
   "name": "python3"
  },
  "language_info": {
   "codemirror_mode": {
    "name": "ipython",
    "version": 3
   },
   "file_extension": ".py",
   "mimetype": "text/x-python",
   "name": "python",
   "nbconvert_exporter": "python",
   "pygments_lexer": "ipython3",
   "version": "3.12.1"
  }
 },
 "nbformat": 4,
 "nbformat_minor": 2
}
