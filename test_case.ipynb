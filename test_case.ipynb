{
 "cells": [
  {
   "cell_type": "code",
   "execution_count": 1,
   "metadata": {},
   "outputs": [],
   "source": [
    "from model.QBVM import QuasiBayesianVineRegression"
   ]
  },
  {
   "cell_type": "code",
   "execution_count": 2,
   "metadata": {},
   "outputs": [
    {
     "name": "stderr",
     "output_type": "stream",
     "text": [
      "c:\\Users\\henry\\Desktop\\Projects\\QuasiBayesMeetsVines\\model\\QBVM.py:32: RuntimeWarning: invalid value encountered in subtract\n",
      "  numerator = quantile_x**2 + quantile_y**2 - 2 * rho * quantile_x * quantile_y\n",
      "c:\\Users\\henry\\Desktop\\Projects\\QuasiBayesMeetsVines\\model\\QBVM.py:60: RuntimeWarning: invalid value encountered in subtract\n",
      "  numerator = quantile_x - rho * quantile_y\n"
     ]
    },
    {
     "name": "stdout",
     "output_type": "stream",
     "text": [
      "(28, 13)\n",
      "(28,)\n",
      "[13.5  12.79 13.11 13.23 12.58 13.17 13.84 12.45 14.34 13.48 12.36 13.69\n",
      " 12.85 12.96 13.78 13.73 13.45 12.82 13.58 13.4  12.2  12.77 14.16 13.71\n",
      " 13.4  13.27 13.17 14.13]\n",
      "[13.5  12.79 13.11 13.23 12.58 13.17 13.84 12.45 14.34 13.48 12.36 13.69\n",
      " 12.85 12.96 13.78 13.73 13.45 12.82 13.58 13.4  12.2  12.77 14.16 13.71\n",
      " 13.4  13.27 13.17 14.13]\n"
     ]
    },
    {
     "ename": "KeyError",
     "evalue": "0",
     "output_type": "error",
     "traceback": [
      "\u001b[1;31m---------------------------------------------------------------------------\u001b[0m",
      "\u001b[1;31mKeyError\u001b[0m                                  Traceback (most recent call last)",
      "Cell \u001b[1;32mIn[2], line 13\u001b[0m\n\u001b[0;32m     10\u001b[0m model \u001b[38;5;241m=\u001b[39m QuasiBayesianVineRegression(rho\u001b[38;5;241m=\u001b[39m\u001b[38;5;241m0.5\u001b[39m, bandwidth\u001b[38;5;241m=\u001b[39m\u001b[38;5;241m0.1\u001b[39m)\n\u001b[0;32m     11\u001b[0m model\u001b[38;5;241m.\u001b[39mfit(X_train, y_train)\n\u001b[1;32m---> 13\u001b[0m predictions \u001b[38;5;241m=\u001b[39m \u001b[43mmodel\u001b[49m\u001b[38;5;241;43m.\u001b[39;49m\u001b[43mpredict\u001b[49m\u001b[43m(\u001b[49m\u001b[43mX_test\u001b[49m\u001b[43m)\u001b[49m\n\u001b[0;32m     14\u001b[0m \u001b[38;5;28mprint\u001b[39m(predictions)\n",
      "File \u001b[1;32mc:\\Users\\henry\\Desktop\\Projects\\QuasiBayesMeetsVines\\model\\QBVM.py:224\u001b[0m, in \u001b[0;36mQuasiBayesianVineRegression.predict\u001b[1;34m(self, X)\u001b[0m\n\u001b[0;32m    222\u001b[0m \u001b[38;5;28;01mfor\u001b[39;00m i \u001b[38;5;129;01min\u001b[39;00m \u001b[38;5;28mrange\u001b[39m(sample\u001b[38;5;241m.\u001b[39mshape[\u001b[38;5;241m0\u001b[39m]):\n\u001b[0;32m    223\u001b[0m     \u001b[38;5;28mprint\u001b[39m(sample)\n\u001b[1;32m--> 224\u001b[0m     marginal_values\u001b[38;5;241m.\u001b[39mappend(\u001b[38;5;28;43mself\u001b[39;49m\u001b[38;5;241;43m.\u001b[39;49m\u001b[43mmodel\u001b[49m\u001b[43m[\u001b[49m\u001b[38;5;124;43m'\u001b[39;49m\u001b[38;5;124;43mmarginals\u001b[39;49m\u001b[38;5;124;43m'\u001b[39;49m\u001b[43m]\u001b[49m\u001b[43m[\u001b[49m\u001b[43mi\u001b[49m\u001b[43m]\u001b[49m\u001b[38;5;241m.\u001b[39mpdf(sample))\n\u001b[0;32m    225\u001b[0m     copula_inputs\u001b[38;5;241m.\u001b[39mappend(\u001b[38;5;28mself\u001b[39m\u001b[38;5;241m.\u001b[39mmodel[\u001b[38;5;124m'\u001b[39m\u001b[38;5;124mmarginals\u001b[39m\u001b[38;5;124m'\u001b[39m][i]\u001b[38;5;241m.\u001b[39mcdf(sample))\n\u001b[0;32m    227\u001b[0m \u001b[38;5;66;03m# Simulate from the copula with the CDF inputs (inverse transform sampling)\u001b[39;00m\n",
      "\u001b[1;31mKeyError\u001b[0m: 0"
     ]
    }
   ],
   "source": [
    "from sklearn.datasets import load_wine\n",
    "\n",
    "data = load_wine(return_X_y=True)\n",
    "X_train = data[0][:150]\n",
    "y_train = data[1][:150]\n",
    "\n",
    "X_test = data[0][150:]\n",
    "y_test = data[1][150:]\n",
    "\n",
    "model = QuasiBayesianVineRegression(rho=0.5, bandwidth=0.1)\n",
    "model.fit(X_train, y_train)\n",
    "\n",
    "predictions = model.predict(X_test)\n",
    "print(predictions)"
   ]
  },
  {
   "cell_type": "code",
   "execution_count": null,
   "metadata": {},
   "outputs": [],
   "source": []
  }
 ],
 "metadata": {
  "kernelspec": {
   "display_name": "env_project",
   "language": "python",
   "name": "python3"
  },
  "language_info": {
   "codemirror_mode": {
    "name": "ipython",
    "version": 3
   },
   "file_extension": ".py",
   "mimetype": "text/x-python",
   "name": "python",
   "nbconvert_exporter": "python",
   "pygments_lexer": "ipython3",
   "version": "3.12.1"
  }
 },
 "nbformat": 4,
 "nbformat_minor": 2
}
